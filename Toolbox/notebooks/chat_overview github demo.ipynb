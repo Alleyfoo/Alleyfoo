{
 "cells": [
  {
   "cell_type": "markdown",
   "id": "a4e36b17",
   "metadata": {},
   "source": [
    "# CS Chatbot LLM – Process Overview"
   ]
  },
  {
   "cell_type": "markdown",
   "id": "4bc80853",
   "metadata": {},
   "source": [
    "This notebook captures the end-to-end flow of the chat demo so stakeholders can understand how intake, processing, and delivery connect. It mirrors the code paths in the repo without sending any live messages."
   ]
  },
  {
   "cell_type": "markdown",
   "id": "42d4138e",
   "metadata": {},
   "source": [
    "## Architecture Snapshot\n",
    "- **Webhook/API layer** (`POST /chat/enqueue`) receives chat payloads from a widget or integration and writes them to the Excel queue.\n",
    "- **Queue store** (`data/email_queue.xlsx`) holds inbound/outbound turns plus metadata (`status`, `delivery_status`, `response_payload`).\n",
    "- **Chat worker** (`tools/chat_worker.py`) claims queued items, runs `ChatService` (knowledge lookup + LLM fallback), and records replies/decisions.\n",
    "- **Dispatcher** (`tools/chat_dispatcher.py`) acknowledges processed turns and writes the demo transcript to `data/chat_web_transcript.jsonl`.\n",
    "- **Visual surfaces** (Streamlit dashboard and static HTML demo) read the queue/transcript to illustrate the conversation."
   ]
  },
  {
   "cell_type": "markdown",
   "id": "796b4196",
   "metadata": {},
   "source": [
    "### Sequence Diagram (textual)\n",
    "```\n",
    "Teams/web widget -> FastAPI webhook (/chat/enqueue)\n",
    "                 -> Excel queue (status=queued)\n",
    "Chat worker      -> claim row -> ChatService.respond -> update row (status=responded/handoff)\n",
    "Dispatcher       -> filter responded rows -> delivery adapter (Teams/web demo)\n",
    "                 -> transcript JSONL (for demos and auditing)\n",
    "```"
   ]
  },
  {
   "cell_type": "markdown",
   "id": "ab1d325a",
   "metadata": {},
   "source": [
    "## Knowledge Examples\n",
    "The worker still relies on the legacy FAQ/knowledge table. The cell below previews the canonical facts that the LLM and guardrails ground against."
   ]
  },
  {
   "cell_type": "code",
   "execution_count": 20,
   "id": "0d60392b",
   "metadata": {},
   "outputs": [
    {
     "data": {
      "text/html": [
       "<div>\n",
       "<style scoped>\n",
       "    .dataframe tbody tr th:only-of-type {\n",
       "        vertical-align: middle;\n",
       "    }\n",
       "\n",
       "    .dataframe tbody tr th {\n",
       "        vertical-align: top;\n",
       "    }\n",
       "\n",
       "    .dataframe thead th {\n",
       "        text-align: right;\n",
       "    }\n",
       "</style>\n",
       "<table border=\"1\" class=\"dataframe\">\n",
       "  <thead>\n",
       "    <tr style=\"text-align: right;\">\n",
       "      <th></th>\n",
       "      <th>Key</th>\n",
       "      <th>Value</th>\n",
       "    </tr>\n",
       "  </thead>\n",
       "  <tbody>\n",
       "    <tr>\n",
       "      <th>0</th>\n",
       "      <td>company_name</td>\n",
       "      <td>Aurora Gadgets</td>\n",
       "    </tr>\n",
       "    <tr>\n",
       "      <th>1</th>\n",
       "      <td>founded_year</td>\n",
       "      <td>1990</td>\n",
       "    </tr>\n",
       "    <tr>\n",
       "      <th>2</th>\n",
       "      <td>warranty_policy</td>\n",
       "      <td>Our warranty policy covers every Aurora device...</td>\n",
       "    </tr>\n",
       "    <tr>\n",
       "      <th>3</th>\n",
       "      <td>return_policy</td>\n",
       "      <td>Customers may return unused products within 30...</td>\n",
       "    </tr>\n",
       "    <tr>\n",
       "      <th>4</th>\n",
       "      <td>shipping_time</td>\n",
       "      <td>Orders ship worldwide and arrive within 5–7 bu...</td>\n",
       "    </tr>\n",
       "    <tr>\n",
       "      <th>5</th>\n",
       "      <td>loyalty_program</td>\n",
       "      <td>Aurora Rewards grants points on every purchase...</td>\n",
       "    </tr>\n",
       "    <tr>\n",
       "      <th>6</th>\n",
       "      <td>support_email</td>\n",
       "      <td>support@auroragadgets.example</td>\n",
       "    </tr>\n",
       "  </tbody>\n",
       "</table>\n",
       "</div>"
      ],
      "text/plain": [
       "               Key                                              Value\n",
       "0     company_name                                     Aurora Gadgets\n",
       "1     founded_year                                               1990\n",
       "2  warranty_policy  Our warranty policy covers every Aurora device...\n",
       "3    return_policy  Customers may return unused products within 30...\n",
       "4    shipping_time  Orders ship worldwide and arrive within 5–7 bu...\n",
       "5  loyalty_program  Aurora Rewards grants points on every purchase...\n",
       "6    support_email                      support@auroragadgets.example"
      ]
     },
     "execution_count": 20,
     "metadata": {},
     "output_type": "execute_result"
    }
   ],
   "source": [
    "from pathlib import Path\n",
    "import pandas as pd\n",
    "\n",
    "template = Path('..') / 'docs' / 'customer_service_template.md'\n",
    "rows = []\n",
    "with template.open('r', encoding='utf-8') as fh:\n",
    "    for line in fh:\n",
    "        raw = line.strip()\n",
    "        if not raw or raw.startswith('#'):\n",
    "            continue\n",
    "        if raw.startswith('|'):\n",
    "            cells = [col.strip() for col in raw.strip('|').split('|')]\n",
    "            rows.append(cells)\n",
    "\n",
    "# remove separator rows and empty entries\n",
    "rows = [r for r in rows if '-' not in ''.join(r)]\n",
    "header, *data_rows = rows\n",
    "df = pd.DataFrame(data_rows, columns=[col for col in header if col])\n",
    "df = df.rename(columns=lambda c: c.strip())\n",
    "df[['Key', 'Value']].head(10)\n"
   ]
  },
  {
   "cell_type": "markdown",
   "id": "8d0d6395",
   "metadata": {},
   "source": [
    "## Sending a Chat Message (demo)\n",
    "```bash\n",
    "# enqueue via FastAPI\n",
    "curl -X POST http://localhost:8000/chat/enqueue      -H 'Content-Type: application/json'      -d '{\"conversation_id\":\"teams-demo-1\",\"text\":\"Can you summarise my loyalty benefits?\",\"end_user_handle\":\"teams-user\"}'\n",
    "\n",
    "# run worker + dispatcher (from shell)\n",
    "python tools/chat_worker.py --queue data/email_queue.xlsx --processor-id teams-worker\n",
    "python tools/chat_dispatcher.py --queue data/email_queue.xlsx --dispatcher-id teams-dispatch --adapter web-demo\n",
    "```\n",
    "In production the dispatcher adapter would call the Teams webhook instead of logging to JSONL."
   ]
  },
  {
   "cell_type": "code",
   "execution_count": 21,
   "id": "d2010719",
   "metadata": {},
   "outputs": [
    {
     "data": {
      "text/plain": [
       "{'type': 'message',\n",
       " 'text': 'Aurora Rewards thanks you for your loyalty!',\n",
       " 'conversation': {'id': 'teams-demo-1'},\n",
       " 'channelId': 'msteams'}"
      ]
     },
     "execution_count": 21,
     "metadata": {},
     "output_type": "execute_result"
    }
   ],
   "source": [
    "# Example payload the Teams adapter would POST\n",
    "teams_message = {\n",
    "    'type': 'message',\n",
    "    'text': 'Aurora Rewards thanks you for your loyalty!',\n",
    "    'conversation': {'id': 'teams-demo-1'},\n",
    "    'channelId': 'msteams',\n",
    "}\n",
    "teams_message"
   ]
  },
  {
   "cell_type": "markdown",
   "id": "47cb1401",
   "metadata": {},
   "source": [
    "## Benchmark Snapshot\n",
    "Use `python tools/benchmark_chat.py --queue data/benchmark_queue.xlsx --reset --messages-json data/bench_messages.json --repeat 1 --dispatch`\n",
    "to capture latency and replies. Free-form prompts route through the LLM; FAQ-style prompts hit the knowledge base instantly. Results include the generated reply text for documentation."
   ]
  },
  {
   "cell_type": "markdown",
   "id": "8b01bbcf",
   "metadata": {},
   "source": [
    "## Interactive Demo (run inside this notebook)\n",
    "Execute the cell below to enqueue a few sample messages, run the chat worker, dispatch the replies, and inspect the queue.\n",
    "\n",
    "> Tip: Set `MODEL_BACKEND=\"stub\"` for fast deterministic output or keep `MODEL_BACKEND=\"ollama\"` if the Ollama server is running."
   ]
  },
  {
   "cell_type": "code",
   "execution_count": 25,
   "id": "be39bb41",
   "metadata": {},
   "outputs": [
    {
     "name": "stdout",
     "output_type": "stream",
     "text": [
      "Processed conversation notebook-1 -> status=responded latency=0.000s\n",
      "Processed conversation notebook-1 -> status=responded latency=0.000s\n",
      "Processed conversation notebook-2 -> status=responded latency=0.000s\n",
      "Dispatched 3 chat message(s) -> status=delivered\n",
      "Inserted 3 message(s); processed 3.\n"
     ]
    },
    {
     "data": {
      "text/html": [
       "<div>\n",
       "<style scoped>\n",
       "    .dataframe tbody tr th:only-of-type {\n",
       "        vertical-align: middle;\n",
       "    }\n",
       "\n",
       "    .dataframe tbody tr th {\n",
       "        vertical-align: top;\n",
       "    }\n",
       "\n",
       "    .dataframe thead th {\n",
       "        text-align: right;\n",
       "    }\n",
       "</style>\n",
       "<table border=\"1\" class=\"dataframe\">\n",
       "  <thead>\n",
       "    <tr style=\"text-align: right;\">\n",
       "      <th></th>\n",
       "      <th>conversation_id</th>\n",
       "      <th>payload</th>\n",
       "      <th>status</th>\n",
       "      <th>response_payload</th>\n",
       "      <th>delivery_status</th>\n",
       "    </tr>\n",
       "  </thead>\n",
       "  <tbody>\n",
       "    <tr>\n",
       "      <th>0</th>\n",
       "      <td>notebook-1</td>\n",
       "      <td>Hi there! What products does Aurora Gadgets sell?</td>\n",
       "      <td>delivered</td>\n",
       "      <td>{\"type\": \"text\", \"content\": \"We are Aurora Gad...</td>\n",
       "      <td>sent</td>\n",
       "    </tr>\n",
       "    <tr>\n",
       "      <th>1</th>\n",
       "      <td>notebook-1</td>\n",
       "      <td>When were you founded?</td>\n",
       "      <td>delivered</td>\n",
       "      <td>{\"type\": \"text\", \"content\": \"Aurora Gadgets wa...</td>\n",
       "      <td>sent</td>\n",
       "    </tr>\n",
       "    <tr>\n",
       "      <th>2</th>\n",
       "      <td>notebook-2</td>\n",
       "      <td>Can you explain the loyalty program benefits i...</td>\n",
       "      <td>delivered</td>\n",
       "      <td>{\"type\": \"text\", \"content\": \"Aurora Rewards gr...</td>\n",
       "      <td>sent</td>\n",
       "    </tr>\n",
       "  </tbody>\n",
       "</table>\n",
       "</div>"
      ],
      "text/plain": [
       "  conversation_id                                            payload  \\\n",
       "0      notebook-1  Hi there! What products does Aurora Gadgets sell?   \n",
       "1      notebook-1                             When were you founded?   \n",
       "2      notebook-2  Can you explain the loyalty program benefits i...   \n",
       "\n",
       "      status                                   response_payload  \\\n",
       "0  delivered  {\"type\": \"text\", \"content\": \"We are Aurora Gad...   \n",
       "1  delivered  {\"type\": \"text\", \"content\": \"Aurora Gadgets wa...   \n",
       "2  delivered  {\"type\": \"text\", \"content\": \"Aurora Rewards gr...   \n",
       "\n",
       "  delivery_status  \n",
       "0            sent  \n",
       "1            sent  \n",
       "2            sent  "
      ]
     },
     "execution_count": 25,
     "metadata": {},
     "output_type": "execute_result"
    }
   ],
   "source": [
    "from pathlib import Path\n",
    "import json\n",
    "import pandas as pd\n",
    "import sys\n",
    "\n",
    "ROOT = Path('..').resolve()\n",
    "if str(ROOT) not in sys.path:\n",
    "    sys.path.insert(0, str(ROOT))\n",
    "\n",
    "from tools import chat_ingest, chat_worker, chat_dispatcher\n",
    "from app.chat_service import ChatService\n",
    "\n",
    "QUEUE_PATH = ROOT / 'data' / 'notebook_demo_queue.xlsx'\n",
    "TRANSCRIPT_PATH = ROOT / 'data' / 'notebook_demo_transcript.jsonl'\n",
    "\n",
    "messages = [\n",
    "    {\n",
    "        \"conversation_id\": \"notebook-1\",\n",
    "        \"text\": \"Hi there! What products does Aurora Gadgets sell?\",\n",
    "        \"end_user_handle\": \"demo-user\",\n",
    "    },\n",
    "    {\n",
    "        \"conversation_id\": \"notebook-1\",\n",
    "        \"text\": \"When were you founded?\",\n",
    "    },\n",
    "    {\n",
    "        \"conversation_id\": \"notebook-2\",\n",
    "        \"text\": \"Can you explain the loyalty program benefits in two sentences?\",\n",
    "    },\n",
    "]\n",
    "\n",
    "if QUEUE_PATH.exists():\n",
    "    QUEUE_PATH.unlink()\n",
    "if TRANSCRIPT_PATH.exists():\n",
    "    TRANSCRIPT_PATH.unlink()\n",
    "\n",
    "inserted = chat_ingest.ingest_messages(QUEUE_PATH, messages)\n",
    "service = ChatService()\n",
    "processed = 0\n",
    "while chat_worker.process_once(QUEUE_PATH, processor_id='notebook-worker', chat_service=service):\n",
    "    processed += 1\n",
    "\n",
    "chat_dispatcher.dispatch_once(\n",
    "    QUEUE_PATH,\n",
    "    dispatcher_id='notebook-dispatcher',\n",
    "    adapter='web-demo',\n",
    "    adapter_target=str(TRANSCRIPT_PATH),\n",
    ")\n",
    "\n",
    "print(f'Inserted {inserted} message(s); processed {processed}.')\n",
    "queue_df = pd.read_excel(QUEUE_PATH)\n",
    "queue_df[['conversation_id', 'payload', 'status', 'response_payload', 'delivery_status']]\n"
   ]
  },
  {
   "cell_type": "code",
   "execution_count": 26,
   "id": "a5374637",
   "metadata": {},
   "outputs": [
    {
     "name": "stdout",
     "output_type": "stream",
     "text": [
      "[{'channel': 'web_chat',\n",
      "  'conversation_id': 'notebook-1',\n",
      "  'delivery_route': 'web-demo',\n",
      "  'end_user_handle': 'demo-user',\n",
      "  'message_id': 'a67f7d47-54f7-4917-bc65-b9f082180b9f',\n",
      "  'response': {'content': 'We are Aurora Gadgets, and we are happy to help.',\n",
      "               'decision': 'answer',\n",
      "               'matched_fact': 'company_name',\n",
      "               'type': 'text'},\n",
      "  'timestamp': '2025-09-29T09:22:14.059745+00:00'},\n",
      " {'channel': 'web_chat',\n",
      "  'conversation_id': 'notebook-1',\n",
      "  'delivery_route': 'web-demo',\n",
      "  'end_user_handle': 'demo-user',\n",
      "  'message_id': '56337a20-bb23-42f1-916e-57223069b28e',\n",
      "  'response': {'content': 'Aurora Gadgets was founded in 1990.',\n",
      "               'decision': 'answer',\n",
      "               'matched_fact': 'founded_year',\n",
      "               'type': 'text'},\n",
      "  'timestamp': '2025-09-29T09:22:14.060746+00:00'},\n",
      " {'channel': 'web_chat',\n",
      "  'conversation_id': 'notebook-2',\n",
      "  'delivery_route': 'web-demo',\n",
      "  'end_user_handle': 'demo-user',\n",
      "  'message_id': '5f4a220e-6801-4a49-93f1-75535e370bb9',\n",
      "  'response': {'content': 'Aurora Rewards grants points on every purchase and '\n",
      "                          'perks for loyal customers.',\n",
      "               'decision': 'answer',\n",
      "               'matched_fact': 'loyalty_program',\n",
      "               'type': 'text'},\n",
      "  'timestamp': '2025-09-29T09:22:14.061246+00:00'}]\n"
     ]
    }
   ],
   "source": [
    "from pprint import pprint\n",
    "\n",
    "if TRANSCRIPT_PATH.exists():\n",
    "    entries = [\n",
    "        json.loads(line)\n",
    "        for line in TRANSCRIPT_PATH.read_text(encoding='utf-8').splitlines()\n",
    "        if line.strip()\n",
    "    ]\n",
    "    pprint(entries[-len(messages):])\n",
    "else:\n",
    "    print('No transcript logged yet.')"
   ]
  },
  {
   "cell_type": "markdown",
   "id": "da850dbc",
   "metadata": {},
   "source": [
    "## Transcript Summary\n",
    "Below we show the last few replies captured by the notebook demo (left) and the main dispatcher log (right)."
   ]
  },
  {
   "cell_type": "code",
   "execution_count": 27,
   "id": "6b44308f",
   "metadata": {},
   "outputs": [
    {
     "data": {
      "text/plain": [
       "{'notebook_demo':                   time conversation decision  \\\n",
       " 0  2025-09-29T09:22:14   notebook-1   answer   \n",
       " 1  2025-09-29T09:22:14   notebook-1   answer   \n",
       " 2  2025-09-29T09:22:14   notebook-2   answer   \n",
       " \n",
       "                                                reply  \n",
       " 0   We are Aurora Gadgets, and we are happy to help.  \n",
       " 1                Aurora Gadgets was founded in 1990.  \n",
       " 2  Aurora Rewards grants points on every purchase...  ,\n",
       " 'dispatcher_log':                   time  conversation decision  \\\n",
       " 0  2025-09-29T07:56:43       bench-1   answer   \n",
       " 1  2025-09-29T07:56:43       bench-2   answer   \n",
       " 2  2025-09-29T08:04:19  bench-long-2   answer   \n",
       " 3  2025-09-29T08:10:07  bench-long-2   answer   \n",
       " 4  2025-09-29T08:10:47  bench-long-2   answer   \n",
       " \n",
       "                                                reply  \n",
       " 0  Our headquarters is located in Helsinki, Finland.  \n",
       " 1  Aurora Rewards grants points on every purchase...  \n",
       " 2  Aurora Rewards grants points on every purchase...  \n",
       " 3  Aurora Rewards grants points on every purchase...  \n",
       " 4  Aurora Rewards grants points on every purchase...  }"
      ]
     },
     "execution_count": 27,
     "metadata": {},
     "output_type": "execute_result"
    }
   ],
   "source": [
    "from pathlib import Path\n",
    "import json\n",
    "import pandas as pd\n",
    "\n",
    "notebook_transcript = Path('..') / 'data' / 'notebook_demo_transcript.jsonl'\n",
    "dispatcher_transcript = Path('..') / 'data' / 'chat_web_transcript.jsonl'\n",
    "\n",
    "def load_entries(path: Path):\n",
    "    if not path.exists():\n",
    "        return []\n",
    "    entries = [\n",
    "        json.loads(line)\n",
    "        for line in path.read_text(encoding='utf-8').splitlines()\n",
    "        if line.strip()\n",
    "    ]\n",
    "    return entries[-5:]\n",
    "\n",
    "def format_entries(entries):\n",
    "    records = []\n",
    "    for entry in entries:\n",
    "        response = entry.get('response', {})\n",
    "        records.append({\n",
    "            'time': entry.get('timestamp', '')[:19],\n",
    "            'conversation': entry.get('conversation_id'),\n",
    "            'decision': response.get('decision'),\n",
    "            'reply': response.get('content'),\n",
    "        })\n",
    "    return pd.DataFrame(records)\n",
    "\n",
    "demo_df = format_entries(load_entries(notebook_transcript))\n",
    "log_df = format_entries(load_entries(dispatcher_transcript))\n",
    "\n",
    "{'notebook_demo': demo_df, 'dispatcher_log': log_df}"
   ]
  }
 ],
 "metadata": {
  "kernelspec": {
   "display_name": "CS Chatbot LLM",
   "language": "python",
   "name": "cs-chatbot-llm"
  },
  "language_info": {
   "codemirror_mode": {
    "name": "ipython",
    "version": 3
   },
   "file_extension": ".py",
   "mimetype": "text/x-python",
   "name": "python",
   "nbconvert_exporter": "python",
   "pygments_lexer": "ipython3",
   "version": "3.11.9"
  }
 },
 "nbformat": 4,
 "nbformat_minor": 5
}
