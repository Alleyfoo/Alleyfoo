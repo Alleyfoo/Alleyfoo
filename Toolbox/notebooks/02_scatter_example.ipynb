{
 "cells": [
  {
   "cell_type": "markdown",
   "metadata": {},
   "source": [
    "# Scatterplot Example"
   ]
  },
  {
   "cell_type": "code",
   "execution_count": null,
   "metadata": {},
   "outputs": [],
   "source": [
    "import pandas as pd\n",
    "from toolbox.visualization import plot_scatter\n",
    "\n",
    "# Create a small sample DataFrame\n",
    "df = pd.DataFrame({\n",
    "    \"x\": [1, 2, 3, 4, 5],\n",
    "    \"y\": [5, 4, 3, 2, 1],\n",
    "    \"group\": [\"A\", \"B\", \"A\", \"B\", \"A\"]\n",
    "})\n",
    "\n",
    "fig = plot_scatter(df, x=\"x\", y=\"y\", hue=\"group\", title=\"Sample Scatter\")\n",
    "fig"
   ]
  }
 ],
 "metadata": {
  "kernelspec": {
   "display_name": "Python 3",
   "language": "python",
   "name": "python3"
  },
  "language_info": {
   "name": "python",
   "pygments_lexer": "ipython3"
  }
 },
 "nbformat": 4,
 "nbformat_minor": 5
}
